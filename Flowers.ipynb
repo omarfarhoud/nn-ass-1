{
 "cells": [
  {
   "cell_type": "code",
   "execution_count": 6,
   "id": "580ea8fe",
   "metadata": {},
   "outputs": [],
   "source": [
    "import random"
   ]
  },
  {
   "cell_type": "code",
   "execution_count": 7,
   "id": "9b6d36a0",
   "metadata": {},
   "outputs": [],
   "source": [
    "class Flower:\n",
    "    def __init__(self):\n",
    "        self.genes = [\n",
    "            random.randint(1, 10),\n",
    "            random.randint(0, 255),\n",
    "            random.randint(0, 255),\n",
    "            random.randint(0, 255),\n",
    "            random.randint(0, 255),\n",
    "            random.randint(0, 255),\n",
    "            random.randint(0, 255),\n",
    "            random.randint(0, 255),\n",
    "            random.randint(0, 255),\n",
    "            random.randint(0, 255),\n",
    "            random.randint(0, 7)\n",
    "        ]"
   ]
  },
  {
   "cell_type": "code",
   "execution_count": 8,
   "id": "f6ab2d20",
   "metadata": {},
   "outputs": [],
   "source": [
    "def create_population(n):\n",
    "    population = []\n",
    "    for _ in range(n):\n",
    "        population.append(Flower())\n",
    "    return population"
   ]
  },
  {
   "cell_type": "code",
   "execution_count": 9,
   "id": "7b4c3584",
   "metadata": {},
   "outputs": [
    {
     "name": "stdout",
     "output_type": "stream",
     "text": [
      "[8, 245, 10, 169, 110, 119, 38, 202, 37, 186, 5]\n",
      "[8, 35, 112, 43, 26, 148, 68, 185, 114, 173, 2]\n",
      "[5, 236, 50, 127, 183, 157, 190, 2, 181, 195, 0]\n",
      "[3, 1, 225, 34, 86, 142, 141, 175, 92, 94, 0]\n",
      "[4, 253, 51, 235, 203, 37, 166, 88, 250, 105, 0]\n",
      "[2, 26, 221, 181, 238, 66, 43, 241, 179, 238, 5]\n",
      "[9, 123, 131, 123, 210, 68, 208, 200, 149, 100, 3]\n",
      "[3, 40, 63, 228, 237, 182, 59, 212, 138, 170, 4]\n"
     ]
    }
   ],
   "source": [
    "flowers = create_population(8)\n",
    "for f in flowers:\n",
    "    print(f.genes)"
   ]
  },
  {
   "cell_type": "code",
   "execution_count": 10,
   "id": "b9319ce5",
   "metadata": {},
   "outputs": [
    {
     "name": "stdout",
     "output_type": "stream",
     "text": [
      "pygame 2.6.1 (SDL 2.28.4, Python 3.13.7)\n",
      "Hello from the pygame community. https://www.pygame.org/contribute.html\n"
     ]
    }
   ],
   "source": [
    "import pygame\n",
    "import math\n",
    "\n",
    "def draw(screen, flower, x):\n",
    "    size = flower.genes[0]\n",
    "    center = (flower.genes[1], flower.genes[2], flower.genes[3])\n",
    "    petalcolor = (flower.genes[4], flower.genes[5], flower.genes[6])\n",
    "    stem = (flower.genes[7], flower.genes[8], flower.genes[9])\n",
    "    petals = flower.genes[10]\n",
    "    \n",
    "    y = 300 \n",
    "\n",
    "    pygame.draw.line(screen, stem, (x, y + 100), (x, y), 4)\n",
    "\n",
    "    if petals > 0:\n",
    "        radius = size + 15\n",
    "        petalsize = 20\n",
    "        for i in range(petals):\n",
    "            angle = math.radians(i * (360 / petals))\n",
    "            px = x + int(math.cos(angle) * radius)\n",
    "            py = y - int(math.sin(angle) * radius)\n",
    "            pygame.draw.circle(screen, petalcolor, (px, py), petalsize)\n",
    "\n",
    "    pygame.draw.circle(screen, center, (x, y), size)\n",
    "    \n",
    "    area = pygame.Rect(x - 50, 0, 100, 600) \n",
    "    return area"
   ]
  },
  {
   "cell_type": "code",
   "execution_count": 13,
   "id": "ea45ae09",
   "metadata": {},
   "outputs": [
    {
     "ename": "KeyboardInterrupt",
     "evalue": "",
     "output_type": "error",
     "traceback": [
      "\u001b[31m---------------------------------------------------------------------------\u001b[39m",
      "\u001b[31mKeyboardInterrupt\u001b[39m                         Traceback (most recent call last)",
      "\u001b[36mCell\u001b[39m\u001b[36m \u001b[39m\u001b[32mIn[13]\u001b[39m\u001b[32m, line 42\u001b[39m\n\u001b[32m     39\u001b[39m     pygame.display.flip()\n\u001b[32m     41\u001b[39m     \u001b[38;5;66;03m# Control the frame rate\u001b[39;00m\n\u001b[32m---> \u001b[39m\u001b[32m42\u001b[39m     \u001b[43mclock\u001b[49m\u001b[43m.\u001b[49m\u001b[43mtick\u001b[49m\u001b[43m(\u001b[49m\u001b[43mFPS\u001b[49m\u001b[43m)\u001b[49m\n\u001b[32m     44\u001b[39m \u001b[38;5;66;03m# 5. Quit Pygame properly\u001b[39;00m\n\u001b[32m     45\u001b[39m pygame.quit()\n",
      "\u001b[31mKeyboardInterrupt\u001b[39m: "
     ]
    }
   ],
   "source": [
    "import pygame\n",
    "pygame.init()\n",
    "\n",
    "WIDTH, HEIGHT = 800, 600\n",
    "FLOWER_SPACING = WIDTH // 8\n",
    "FPS = 60 \n",
    "screen = pygame.display.set_mode((WIDTH, HEIGHT))\n",
    "pygame.display.set_caption(\"Flower Evolution\")\n",
    "clock = pygame.time.Clock() \n",
    "\n",
    "\n",
    "running = True\n",
    "while running:\n",
    "    for event in pygame.event.get():\n",
    "        if event.type == pygame.QUIT:\n",
    "            running = False\n",
    "\n",
    "    screen.fill((255, 255, 255)) \n",
    "\n",
    "    for i, flower in enumerate(flowers):\n",
    "        x_position = (i * FLOWER_SPACING) + (FLOWER_SPACING // 2)\n",
    "        draw(screen, flower, x_position)\n",
    "\n",
    "    pygame.display.flip()\n",
    "\n",
    "    clock.tick(FPS)\n",
    "\n",
    "pygame.quit()"
   ]
  }
 ],
 "metadata": {
  "kernelspec": {
   "display_name": "Python 3",
   "language": "python",
   "name": "python3"
  },
  "language_info": {
   "codemirror_mode": {
    "name": "ipython",
    "version": 3
   },
   "file_extension": ".py",
   "mimetype": "text/x-python",
   "name": "python",
   "nbconvert_exporter": "python",
   "pygments_lexer": "ipython3",
   "version": "3.13.7"
  }
 },
 "nbformat": 4,
 "nbformat_minor": 5
}
